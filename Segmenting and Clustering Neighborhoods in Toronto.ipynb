{
    "nbformat_minor": 1, 
    "cells": [
        {
            "source": "# Segmenting and Clustering Neighborhoods in Toronto ", 
            "cell_type": "markdown", 
            "metadata": {
                "collapsed": true
            }
        }, 
        {
            "source": "### Coursera Capstone Project 2", 
            "cell_type": "markdown", 
            "metadata": {}
        }, 
        {
            "source": "\n", 
            "cell_type": "markdown", 
            "metadata": {}
        }, 
        {
            "source": "## 1. Loading and Extracting Data", 
            "cell_type": "markdown", 
            "metadata": {}
        }, 
        {
            "source": "Importing necessary libraries:", 
            "cell_type": "markdown", 
            "metadata": {}
        }, 
        {
            "execution_count": 1, 
            "cell_type": "code", 
            "metadata": {}, 
            "outputs": [], 
            "source": "import pandas as pd\nimport numpy as np\nimport requests\nfrom bs4 import BeautifulSoup"
        }, 
        {
            "source": "Getting the html document from the wikipedia page that contains our data on neighborhoods in Toronto, Canada:", 
            "cell_type": "markdown", 
            "metadata": {}
        }, 
        {
            "execution_count": 2, 
            "cell_type": "code", 
            "metadata": {}, 
            "outputs": [], 
            "source": "html_doc = requests.get('https://en.wikipedia.org/wiki/List_of_postal_codes_of_Canada:_M').text"
        }, 
        {
            "source": "Using BeautifulSoup library to parse the html document:", 
            "cell_type": "markdown", 
            "metadata": {}
        }, 
        {
            "execution_count": 3, 
            "cell_type": "code", 
            "metadata": {
                "scrolled": true
            }, 
            "outputs": [], 
            "source": "soup = BeautifulSoup(html_doc, 'html.parser')"
        }, 
        {
            "source": "In an HTML code the table data and all of its attributes are stored in the keyword \"table\".", 
            "cell_type": "markdown", 
            "metadata": {}
        }, 
        {
            "execution_count": 4, 
            "cell_type": "code", 
            "metadata": {}, 
            "outputs": [], 
            "source": "# Finding the table containing our data \ntable = soup.find('table',{'class' : 'wikitable sortable'})"
        }, 
        {
            "source": "(Note: I've removed the print commands for the previous two lines of code as the outputs are insanely long)  \nExtracting rows from the HTML table(stored within 'tr' in the HTML file), and creating an empty list called rows_list which we can loop through to append data from each row into the list:", 
            "cell_type": "markdown", 
            "metadata": {}
        }, 
        {
            "execution_count": 5, 
            "cell_type": "code", 
            "metadata": {
                "scrolled": true
            }, 
            "outputs": [
                {
                    "execution_count": 5, 
                    "metadata": {}, 
                    "data": {
                        "text/plain": "[['M1A', 'Not assigned', 'Not assigned'],\n ['M2A', 'Not assigned', 'Not assigned'],\n ['M3A', 'North York', 'Parkwoods'],\n ['M4A', 'North York', 'Victoria Village'],\n ['M5A', 'Downtown Toronto', 'Harbourfront'],\n ['M5A', 'Downtown Toronto', 'Regent Park'],\n ['M6A', 'North York', 'Lawrence Heights'],\n ['M6A', 'North York', 'Lawrence Manor'],\n ['M7A', \"Queen's Park\", 'Not assigned'],\n ['M8A', 'Not assigned', 'Not assigned'],\n ['M9A', 'Etobicoke', 'Islington Avenue'],\n ['M1B', 'Scarborough', 'Rouge'],\n ['M1B', 'Scarborough', 'Malvern'],\n ['M2B', 'Not assigned', 'Not assigned'],\n ['M3B', 'North York', 'Don Mills North'],\n ['M4B', 'East York', 'Woodbine Gardens'],\n ['M4B', 'East York', 'Parkview Hill'],\n ['M5B', 'Downtown Toronto', 'Ryerson'],\n ['M5B', 'Downtown Toronto', 'Garden District'],\n ['M6B', 'North York', 'Glencairn'],\n ['M7B', 'Not assigned', 'Not assigned'],\n ['M8B', 'Not assigned', 'Not assigned'],\n ['M9B', 'Etobicoke', 'Cloverdale'],\n ['M9B', 'Etobicoke', 'Islington'],\n ['M9B', 'Etobicoke', 'Martin Grove'],\n ['M9B', 'Etobicoke', 'Princess Gardens'],\n ['M9B', 'Etobicoke', 'West Deane Park'],\n ['M1C', 'Scarborough', 'Highland Creek'],\n ['M1C', 'Scarborough', 'Rouge Hill'],\n ['M1C', 'Scarborough', 'Port Union'],\n ['M2C', 'Not assigned', 'Not assigned'],\n ['M3C', 'North York', 'Flemingdon Park'],\n ['M3C', 'North York', 'Don Mills South'],\n ['M4C', 'East York', 'Woodbine Heights'],\n ['M5C', 'Downtown Toronto', 'St. James Town'],\n ['M6C', 'York', 'Humewood-Cedarvale'],\n ['M7C', 'Not assigned', 'Not assigned'],\n ['M8C', 'Not assigned', 'Not assigned'],\n ['M9C', 'Etobicoke', 'Bloordale Gardens'],\n ['M9C', 'Etobicoke', 'Eringate'],\n ['M9C', 'Etobicoke', 'Markland Wood'],\n ['M9C', 'Etobicoke', 'Old Burnhamthorpe'],\n ['M1E', 'Scarborough', 'Guildwood'],\n ['M1E', 'Scarborough', 'Morningside'],\n ['M1E', 'Scarborough', 'West Hill'],\n ['M2E', 'Not assigned', 'Not assigned'],\n ['M3E', 'Not assigned', 'Not assigned'],\n ['M4E', 'East Toronto', 'The Beaches'],\n ['M5E', 'Downtown Toronto', 'Berczy Park'],\n ['M6E', 'York', 'Caledonia-Fairbanks'],\n ['M7E', 'Not assigned', 'Not assigned'],\n ['M8E', 'Not assigned', 'Not assigned'],\n ['M9E', 'Not assigned', 'Not assigned'],\n ['M1G', 'Scarborough', 'Woburn'],\n ['M2G', 'Not assigned', 'Not assigned'],\n ['M3G', 'Not assigned', 'Not assigned'],\n ['M4G', 'East York', 'Leaside'],\n ['M5G', 'Downtown Toronto', 'Central Bay Street'],\n ['M6G', 'Downtown Toronto', 'Christie'],\n ['M7G', 'Not assigned', 'Not assigned'],\n ['M8G', 'Not assigned', 'Not assigned'],\n ['M9G', 'Not assigned', 'Not assigned'],\n ['M1H', 'Scarborough', 'Cedarbrae'],\n ['M2H', 'North York', 'Hillcrest Village'],\n ['M3H', 'North York', 'Bathurst Manor'],\n ['M3H', 'North York', 'Downsview North'],\n ['M3H', 'North York', 'Wilson Heights'],\n ['M4H', 'East York', 'Thorncliffe Park'],\n ['M5H', 'Downtown Toronto', 'Adelaide'],\n ['M5H', 'Downtown Toronto', 'King'],\n ['M5H', 'Downtown Toronto', 'Richmond'],\n ['M6H', 'West Toronto', 'Dovercourt Village'],\n ['M6H', 'West Toronto', 'Dufferin'],\n ['M7H', 'Not assigned', 'Not assigned'],\n ['M8H', 'Not assigned', 'Not assigned'],\n ['M9H', 'Not assigned', 'Not assigned'],\n ['M1J', 'Scarborough', 'Scarborough Village'],\n ['M2J', 'North York', 'Fairview'],\n ['M2J', 'North York', 'Henry Farm'],\n ['M2J', 'North York', 'Oriole'],\n ['M3J', 'North York', 'Northwood Park'],\n ['M3J', 'North York', 'York University'],\n ['M4J', 'East York', 'East Toronto'],\n ['M5J', 'Downtown Toronto', 'Harbourfront East'],\n ['M5J', 'Downtown Toronto', 'Toronto Islands'],\n ['M5J', 'Downtown Toronto', 'Union Station'],\n ['M6J', 'West Toronto', 'Little Portugal'],\n ['M6J', 'West Toronto', 'Trinity'],\n ['M7J', 'Not assigned', 'Not assigned'],\n ['M8J', 'Not assigned', 'Not assigned'],\n ['M9J', 'Not assigned', 'Not assigned'],\n ['M1K', 'Scarborough', 'East Birchmount Park'],\n ['M1K', 'Scarborough', 'Ionview'],\n ['M1K', 'Scarborough', 'Kennedy Park'],\n ['M2K', 'North York', 'Bayview Village'],\n ['M3K', 'North York', 'CFB Toronto'],\n ['M3K', 'North York', 'Downsview East'],\n ['M4K', 'East Toronto', 'The Danforth West'],\n ['M4K', 'East Toronto', 'Riverdale'],\n ['M5K', 'Downtown Toronto', 'Design Exchange'],\n ['M5K', 'Downtown Toronto', 'Toronto Dominion Centre'],\n ['M6K', 'West Toronto', 'Brockton'],\n ['M6K', 'West Toronto', 'Exhibition Place'],\n ['M6K', 'West Toronto', 'Parkdale Village'],\n ['M7K', 'Not assigned', 'Not assigned'],\n ['M8K', 'Not assigned', 'Not assigned'],\n ['M9K', 'Not assigned', 'Not assigned'],\n ['M1L', 'Scarborough', 'Clairlea'],\n ['M1L', 'Scarborough', 'Golden Mile'],\n ['M1L', 'Scarborough', 'Oakridge'],\n ['M2L', 'North York', 'Silver Hills'],\n ['M2L', 'North York', 'York Mills'],\n ['M3L', 'North York', 'Downsview West'],\n ['M4L', 'East Toronto', 'The Beaches West'],\n ['M4L', 'East Toronto', 'India Bazaar'],\n ['M5L', 'Downtown Toronto', 'Commerce Court'],\n ['M5L', 'Downtown Toronto', 'Victoria Hotel'],\n ['M6L', 'North York', 'Downsview'],\n ['M6L', 'North York', 'North Park'],\n ['M6L', 'North York', 'Upwood Park'],\n ['M7L', 'Not assigned', 'Not assigned'],\n ['M8L', 'Not assigned', 'Not assigned'],\n ['M9L', 'North York', 'Humber Summit'],\n ['M1M', 'Scarborough', 'Cliffcrest'],\n ['M1M', 'Scarborough', 'Cliffside'],\n ['M1M', 'Scarborough', 'Scarborough Village West'],\n ['M2M', 'North York', 'Newtonbrook'],\n ['M2M', 'North York', 'Willowdale'],\n ['M3M', 'North York', 'Downsview Central'],\n ['M4M', 'East Toronto', 'Studio District'],\n ['M5M', 'North York', 'Bedford Park'],\n ['M5M', 'North York', 'Lawrence Manor East'],\n ['M6M', 'York', 'Del Ray'],\n ['M6M', 'York', 'Keelesdale'],\n ['M6M', 'York', 'Mount Dennis'],\n ['M6M', 'York', 'Silverthorn'],\n ['M7M', 'Not assigned', 'Not assigned'],\n ['M8M', 'Not assigned', 'Not assigned'],\n ['M9M', 'North York', 'Emery'],\n ['M9M', 'North York', 'Humberlea'],\n ['M1N', 'Scarborough', 'Birch Cliff'],\n ['M1N', 'Scarborough', 'Cliffside West'],\n ['M2N', 'North York', 'Willowdale South'],\n ['M3N', 'North York', 'Downsview Northwest'],\n ['M4N', 'Central Toronto', 'Lawrence Park'],\n ['M5N', 'Central Toronto', 'Roselawn'],\n ['M6N', 'York', 'The Junction North'],\n ['M6N', 'York', 'Runnymede'],\n ['M7N', 'Not assigned', 'Not assigned'],\n ['M8N', 'Not assigned', 'Not assigned'],\n ['M9N', 'York', 'Weston'],\n ['M1P', 'Scarborough', 'Dorset Park'],\n ['M1P', 'Scarborough', 'Scarborough Town Centre'],\n ['M1P', 'Scarborough', 'Wexford Heights'],\n ['M2P', 'North York', 'York Mills West'],\n ['M3P', 'Not assigned', 'Not assigned'],\n ['M4P', 'Central Toronto', 'Davisville North'],\n ['M5P', 'Central Toronto', 'Forest Hill North'],\n ['M5P', 'Central Toronto', 'Forest Hill West'],\n ['M6P', 'West Toronto', 'High Park'],\n ['M6P', 'West Toronto', 'The Junction South'],\n ['M7P', 'Not assigned', 'Not assigned'],\n ['M8P', 'Not assigned', 'Not assigned'],\n ['M9P', 'Etobicoke', 'Westmount'],\n ['M1R', 'Scarborough', 'Maryvale'],\n ['M1R', 'Scarborough', 'Wexford'],\n ['M2R', 'North York', 'Willowdale West'],\n ['M3R', 'Not assigned', 'Not assigned'],\n ['M4R', 'Central Toronto', 'North Toronto West'],\n ['M5R', 'Central Toronto', 'The Annex'],\n ['M5R', 'Central Toronto', 'North Midtown'],\n ['M5R', 'Central Toronto', 'Yorkville'],\n ['M6R', 'West Toronto', 'Parkdale'],\n ['M6R', 'West Toronto', 'Roncesvalles'],\n ['M7R', 'Mississauga', 'Canada Post Gateway Processing Centre'],\n ['M8R', 'Not assigned', 'Not assigned'],\n ['M9R', 'Etobicoke', 'Kingsview Village'],\n ['M9R', 'Etobicoke', 'Martin Grove Gardens'],\n ['M9R', 'Etobicoke', 'Richview Gardens'],\n ['M9R', 'Etobicoke', 'St. Phillips'],\n ['M1S', 'Scarborough', 'Agincourt'],\n ['M2S', 'Not assigned', 'Not assigned'],\n ['M3S', 'Not assigned', 'Not assigned'],\n ['M4S', 'Central Toronto', 'Davisville'],\n ['M5S', 'Downtown Toronto', 'Harbord'],\n ['M5S', 'Downtown Toronto', 'University of Toronto'],\n ['M6S', 'West Toronto', 'Runnymede'],\n ['M6S', 'West Toronto', 'Swansea'],\n ['M7S', 'Not assigned', 'Not assigned'],\n ['M8S', 'Not assigned', 'Not assigned'],\n ['M9S', 'Not assigned', 'Not assigned'],\n ['M1T', 'Scarborough', 'Clarks Corners'],\n ['M1T', 'Scarborough', 'Sullivan'],\n ['M1T', 'Scarborough', \"Tam O'Shanter\"],\n ['M2T', 'Not assigned', 'Not assigned'],\n ['M3T', 'Not assigned', 'Not assigned'],\n ['M4T', 'Central Toronto', 'Moore Park'],\n ['M4T', 'Central Toronto', 'Summerhill East'],\n ['M5T', 'Downtown Toronto', 'Chinatown'],\n ['M5T', 'Downtown Toronto', 'Grange Park'],\n ['M5T', 'Downtown Toronto', 'Kensington Market'],\n ['M6T', 'Not assigned', 'Not assigned'],\n ['M7T', 'Not assigned', 'Not assigned'],\n ['M8T', 'Not assigned', 'Not assigned'],\n ['M9T', 'Not assigned', 'Not assigned'],\n ['M1V', 'Scarborough', 'Agincourt North'],\n ['M1V', 'Scarborough', \"L'Amoreaux East\"],\n ['M1V', 'Scarborough', 'Milliken'],\n ['M1V', 'Scarborough', 'Steeles East'],\n ['M2V', 'Not assigned', 'Not assigned'],\n ['M3V', 'Not assigned', 'Not assigned'],\n ['M4V', 'Central Toronto', 'Deer Park'],\n ['M4V', 'Central Toronto', 'Forest Hill SE'],\n ['M4V', 'Central Toronto', 'Rathnelly'],\n ['M4V', 'Central Toronto', 'South Hill'],\n ['M4V', 'Central Toronto', 'Summerhill West'],\n ['M5V', 'Downtown Toronto', 'CN Tower'],\n ['M5V', 'Downtown Toronto', 'Bathurst Quay'],\n ['M5V', 'Downtown Toronto', 'Island airport'],\n ['M5V', 'Downtown Toronto', 'Harbourfront West'],\n ['M5V', 'Downtown Toronto', 'King and Spadina'],\n ['M5V', 'Downtown Toronto', 'Railway Lands'],\n ['M5V', 'Downtown Toronto', 'South Niagara'],\n ['M6V', 'Not assigned', 'Not assigned'],\n ['M7V', 'Not assigned', 'Not assigned'],\n ['M8V', 'Etobicoke', 'Humber Bay Shores'],\n ['M8V', 'Etobicoke', 'Mimico South'],\n ['M8V', 'Etobicoke', 'New Toronto'],\n ['M9V', 'Etobicoke', 'Albion Gardens'],\n ['M9V', 'Etobicoke', 'Beaumond Heights'],\n ['M9V', 'Etobicoke', 'Humbergate'],\n ['M9V', 'Etobicoke', 'Jamestown'],\n ['M9V', 'Etobicoke', 'Mount Olive'],\n ['M9V', 'Etobicoke', 'Silverstone'],\n ['M9V', 'Etobicoke', 'South Steeles'],\n ['M9V', 'Etobicoke', 'Thistletown'],\n ['M1W', 'Scarborough', \"L'Amoreaux West\"],\n ['M2W', 'Not assigned', 'Not assigned'],\n ['M3W', 'Not assigned', 'Not assigned'],\n ['M4W', 'Downtown Toronto', 'Rosedale'],\n ['M5W', 'Downtown Toronto', 'Stn A PO Boxes 25 The Esplanade'],\n ['M6W', 'Not assigned', 'Not assigned'],\n ['M7W', 'Not assigned', 'Not assigned'],\n ['M8W', 'Etobicoke', 'Alderwood'],\n ['M8W', 'Etobicoke', 'Long Branch'],\n ['M9W', 'Etobicoke', 'Northwest'],\n ['M1X', 'Scarborough', 'Upper Rouge'],\n ['M2X', 'Not assigned', 'Not assigned'],\n ['M3X', 'Not assigned', 'Not assigned'],\n ['M4X', 'Downtown Toronto', 'Cabbagetown'],\n ['M4X', 'Downtown Toronto', 'St. James Town'],\n ['M5X', 'Downtown Toronto', 'First Canadian Place'],\n ['M5X', 'Downtown Toronto', 'Underground city'],\n ['M6X', 'Not assigned', 'Not assigned'],\n ['M7X', 'Not assigned', 'Not assigned'],\n ['M8X', 'Etobicoke', 'The Kingsway'],\n ['M8X', 'Etobicoke', 'Montgomery Road'],\n ['M8X', 'Etobicoke', 'Old Mill North'],\n ['M9X', 'Not assigned', 'Not assigned'],\n ['M1Y', 'Not assigned', 'Not assigned'],\n ['M2Y', 'Not assigned', 'Not assigned'],\n ['M3Y', 'Not assigned', 'Not assigned'],\n ['M4Y', 'Downtown Toronto', 'Church and Wellesley'],\n ['M5Y', 'Not assigned', 'Not assigned'],\n ['M6Y', 'Not assigned', 'Not assigned'],\n ['M7Y', 'East Toronto', 'Business Reply Mail Processing Centre 969 Eastern'],\n ['M8Y', 'Etobicoke', 'Humber Bay'],\n ['M8Y', 'Etobicoke', \"King's Mill Park\"],\n ['M8Y', 'Etobicoke', 'Kingsway Park South East'],\n ['M8Y', 'Etobicoke', 'Mimico NE'],\n ['M8Y', 'Etobicoke', 'Old Mill South'],\n ['M8Y', 'Etobicoke', 'The Queensway East'],\n ['M8Y', 'Etobicoke', 'Royal York South East'],\n ['M8Y', 'Etobicoke', 'Sunnylea'],\n ['M9Y', 'Not assigned', 'Not assigned'],\n ['M1Z', 'Not assigned', 'Not assigned'],\n ['M2Z', 'Not assigned', 'Not assigned'],\n ['M3Z', 'Not assigned', 'Not assigned'],\n ['M4Z', 'Not assigned', 'Not assigned'],\n ['M5Z', 'Not assigned', 'Not assigned'],\n ['M6Z', 'Not assigned', 'Not assigned'],\n ['M7Z', 'Not assigned', 'Not assigned'],\n ['M8Z', 'Etobicoke', 'Kingsway Park South West'],\n ['M8Z', 'Etobicoke', 'Mimico NW'],\n ['M8Z', 'Etobicoke', 'The Queensway West'],\n ['M8Z', 'Etobicoke', 'Royal York South West'],\n ['M8Z', 'Etobicoke', 'South of Bloor'],\n ['M9Z', 'Not assigned', 'Not assigned']]"
                    }, 
                    "output_type": "execute_result"
                }
            ], 
            "source": "rows = table.find_all('tr')\nrows_list = []\n\nfor r in rows:\n    row = r.find_all('td')\n    row = [r.text.strip() for r in row] \n    if row:\n        rows_list.append(row)\nrows_list   "
        }, 
        {
            "execution_count": 6, 
            "cell_type": "code", 
            "metadata": {
                "scrolled": true
            }, 
            "outputs": [
                {
                    "execution_count": 6, 
                    "metadata": {}, 
                    "data": {
                        "text/html": "<div>\n<style scoped>\n    .dataframe tbody tr th:only-of-type {\n        vertical-align: middle;\n    }\n\n    .dataframe tbody tr th {\n        vertical-align: top;\n    }\n\n    .dataframe thead th {\n        text-align: right;\n    }\n</style>\n<table border=\"1\" class=\"dataframe\">\n  <thead>\n    <tr style=\"text-align: right;\">\n      <th></th>\n      <th>PostalCode</th>\n      <th>Borough</th>\n      <th>Neighborhood</th>\n    </tr>\n  </thead>\n  <tbody>\n    <tr>\n      <th>0</th>\n      <td>M1A</td>\n      <td>Not assigned</td>\n      <td>Not assigned</td>\n    </tr>\n    <tr>\n      <th>1</th>\n      <td>M2A</td>\n      <td>Not assigned</td>\n      <td>Not assigned</td>\n    </tr>\n    <tr>\n      <th>2</th>\n      <td>M3A</td>\n      <td>North York</td>\n      <td>Parkwoods</td>\n    </tr>\n    <tr>\n      <th>3</th>\n      <td>M4A</td>\n      <td>North York</td>\n      <td>Victoria Village</td>\n    </tr>\n    <tr>\n      <th>4</th>\n      <td>M5A</td>\n      <td>Downtown Toronto</td>\n      <td>Harbourfront</td>\n    </tr>\n    <tr>\n      <th>5</th>\n      <td>M5A</td>\n      <td>Downtown Toronto</td>\n      <td>Regent Park</td>\n    </tr>\n    <tr>\n      <th>6</th>\n      <td>M6A</td>\n      <td>North York</td>\n      <td>Lawrence Heights</td>\n    </tr>\n    <tr>\n      <th>7</th>\n      <td>M6A</td>\n      <td>North York</td>\n      <td>Lawrence Manor</td>\n    </tr>\n    <tr>\n      <th>8</th>\n      <td>M7A</td>\n      <td>Queen's Park</td>\n      <td>Not assigned</td>\n    </tr>\n    <tr>\n      <th>9</th>\n      <td>M8A</td>\n      <td>Not assigned</td>\n      <td>Not assigned</td>\n    </tr>\n  </tbody>\n</table>\n</div>", 
                        "text/plain": "  PostalCode           Borough      Neighborhood\n0        M1A      Not assigned      Not assigned\n1        M2A      Not assigned      Not assigned\n2        M3A        North York         Parkwoods\n3        M4A        North York  Victoria Village\n4        M5A  Downtown Toronto      Harbourfront\n5        M5A  Downtown Toronto       Regent Park\n6        M6A        North York  Lawrence Heights\n7        M6A        North York    Lawrence Manor\n8        M7A      Queen's Park      Not assigned\n9        M8A      Not assigned      Not assigned"
                    }, 
                    "output_type": "execute_result"
                }
            ], 
            "source": "#converting the list to dataframe\ndf = pd.DataFrame(rows_list, columns = ['PostalCode', 'Borough', 'Neighborhood'])\ndf.head(10)"
        }, 
        {
            "source": "Then we have to drop rows that do not have a neighborhood assigned:", 
            "cell_type": "markdown", 
            "metadata": {}
        }, 
        {
            "execution_count": 7, 
            "cell_type": "code", 
            "metadata": {
                "scrolled": true
            }, 
            "outputs": [
                {
                    "execution_count": 7, 
                    "metadata": {}, 
                    "data": {
                        "text/html": "<div>\n<style scoped>\n    .dataframe tbody tr th:only-of-type {\n        vertical-align: middle;\n    }\n\n    .dataframe tbody tr th {\n        vertical-align: top;\n    }\n\n    .dataframe thead th {\n        text-align: right;\n    }\n</style>\n<table border=\"1\" class=\"dataframe\">\n  <thead>\n    <tr style=\"text-align: right;\">\n      <th></th>\n      <th>PostalCode</th>\n      <th>Borough</th>\n      <th>Neighborhood</th>\n    </tr>\n  </thead>\n  <tbody>\n    <tr>\n      <th>0</th>\n      <td>M1A</td>\n      <td>Not assigned</td>\n      <td>Not assigned</td>\n    </tr>\n    <tr>\n      <th>1</th>\n      <td>M2A</td>\n      <td>Not assigned</td>\n      <td>Not assigned</td>\n    </tr>\n    <tr>\n      <th>8</th>\n      <td>M7A</td>\n      <td>Queen's Park</td>\n      <td>Not assigned</td>\n    </tr>\n    <tr>\n      <th>9</th>\n      <td>M8A</td>\n      <td>Not assigned</td>\n      <td>Not assigned</td>\n    </tr>\n    <tr>\n      <th>13</th>\n      <td>M2B</td>\n      <td>Not assigned</td>\n      <td>Not assigned</td>\n    </tr>\n    <tr>\n      <th>20</th>\n      <td>M7B</td>\n      <td>Not assigned</td>\n      <td>Not assigned</td>\n    </tr>\n    <tr>\n      <th>21</th>\n      <td>M8B</td>\n      <td>Not assigned</td>\n      <td>Not assigned</td>\n    </tr>\n    <tr>\n      <th>30</th>\n      <td>M2C</td>\n      <td>Not assigned</td>\n      <td>Not assigned</td>\n    </tr>\n    <tr>\n      <th>36</th>\n      <td>M7C</td>\n      <td>Not assigned</td>\n      <td>Not assigned</td>\n    </tr>\n    <tr>\n      <th>37</th>\n      <td>M8C</td>\n      <td>Not assigned</td>\n      <td>Not assigned</td>\n    </tr>\n    <tr>\n      <th>45</th>\n      <td>M2E</td>\n      <td>Not assigned</td>\n      <td>Not assigned</td>\n    </tr>\n    <tr>\n      <th>46</th>\n      <td>M3E</td>\n      <td>Not assigned</td>\n      <td>Not assigned</td>\n    </tr>\n    <tr>\n      <th>50</th>\n      <td>M7E</td>\n      <td>Not assigned</td>\n      <td>Not assigned</td>\n    </tr>\n    <tr>\n      <th>51</th>\n      <td>M8E</td>\n      <td>Not assigned</td>\n      <td>Not assigned</td>\n    </tr>\n    <tr>\n      <th>52</th>\n      <td>M9E</td>\n      <td>Not assigned</td>\n      <td>Not assigned</td>\n    </tr>\n    <tr>\n      <th>54</th>\n      <td>M2G</td>\n      <td>Not assigned</td>\n      <td>Not assigned</td>\n    </tr>\n    <tr>\n      <th>55</th>\n      <td>M3G</td>\n      <td>Not assigned</td>\n      <td>Not assigned</td>\n    </tr>\n    <tr>\n      <th>59</th>\n      <td>M7G</td>\n      <td>Not assigned</td>\n      <td>Not assigned</td>\n    </tr>\n    <tr>\n      <th>60</th>\n      <td>M8G</td>\n      <td>Not assigned</td>\n      <td>Not assigned</td>\n    </tr>\n    <tr>\n      <th>61</th>\n      <td>M9G</td>\n      <td>Not assigned</td>\n      <td>Not assigned</td>\n    </tr>\n    <tr>\n      <th>73</th>\n      <td>M7H</td>\n      <td>Not assigned</td>\n      <td>Not assigned</td>\n    </tr>\n    <tr>\n      <th>74</th>\n      <td>M8H</td>\n      <td>Not assigned</td>\n      <td>Not assigned</td>\n    </tr>\n    <tr>\n      <th>75</th>\n      <td>M9H</td>\n      <td>Not assigned</td>\n      <td>Not assigned</td>\n    </tr>\n    <tr>\n      <th>88</th>\n      <td>M7J</td>\n      <td>Not assigned</td>\n      <td>Not assigned</td>\n    </tr>\n    <tr>\n      <th>89</th>\n      <td>M8J</td>\n      <td>Not assigned</td>\n      <td>Not assigned</td>\n    </tr>\n    <tr>\n      <th>90</th>\n      <td>M9J</td>\n      <td>Not assigned</td>\n      <td>Not assigned</td>\n    </tr>\n    <tr>\n      <th>104</th>\n      <td>M7K</td>\n      <td>Not assigned</td>\n      <td>Not assigned</td>\n    </tr>\n    <tr>\n      <th>105</th>\n      <td>M8K</td>\n      <td>Not assigned</td>\n      <td>Not assigned</td>\n    </tr>\n    <tr>\n      <th>106</th>\n      <td>M9K</td>\n      <td>Not assigned</td>\n      <td>Not assigned</td>\n    </tr>\n    <tr>\n      <th>120</th>\n      <td>M7L</td>\n      <td>Not assigned</td>\n      <td>Not assigned</td>\n    </tr>\n    <tr>\n      <th>...</th>\n      <td>...</td>\n      <td>...</td>\n      <td>...</td>\n    </tr>\n    <tr>\n      <th>202</th>\n      <td>M7T</td>\n      <td>Not assigned</td>\n      <td>Not assigned</td>\n    </tr>\n    <tr>\n      <th>203</th>\n      <td>M8T</td>\n      <td>Not assigned</td>\n      <td>Not assigned</td>\n    </tr>\n    <tr>\n      <th>204</th>\n      <td>M9T</td>\n      <td>Not assigned</td>\n      <td>Not assigned</td>\n    </tr>\n    <tr>\n      <th>209</th>\n      <td>M2V</td>\n      <td>Not assigned</td>\n      <td>Not assigned</td>\n    </tr>\n    <tr>\n      <th>210</th>\n      <td>M3V</td>\n      <td>Not assigned</td>\n      <td>Not assigned</td>\n    </tr>\n    <tr>\n      <th>223</th>\n      <td>M6V</td>\n      <td>Not assigned</td>\n      <td>Not assigned</td>\n    </tr>\n    <tr>\n      <th>224</th>\n      <td>M7V</td>\n      <td>Not assigned</td>\n      <td>Not assigned</td>\n    </tr>\n    <tr>\n      <th>237</th>\n      <td>M2W</td>\n      <td>Not assigned</td>\n      <td>Not assigned</td>\n    </tr>\n    <tr>\n      <th>238</th>\n      <td>M3W</td>\n      <td>Not assigned</td>\n      <td>Not assigned</td>\n    </tr>\n    <tr>\n      <th>241</th>\n      <td>M6W</td>\n      <td>Not assigned</td>\n      <td>Not assigned</td>\n    </tr>\n    <tr>\n      <th>242</th>\n      <td>M7W</td>\n      <td>Not assigned</td>\n      <td>Not assigned</td>\n    </tr>\n    <tr>\n      <th>247</th>\n      <td>M2X</td>\n      <td>Not assigned</td>\n      <td>Not assigned</td>\n    </tr>\n    <tr>\n      <th>248</th>\n      <td>M3X</td>\n      <td>Not assigned</td>\n      <td>Not assigned</td>\n    </tr>\n    <tr>\n      <th>253</th>\n      <td>M6X</td>\n      <td>Not assigned</td>\n      <td>Not assigned</td>\n    </tr>\n    <tr>\n      <th>254</th>\n      <td>M7X</td>\n      <td>Not assigned</td>\n      <td>Not assigned</td>\n    </tr>\n    <tr>\n      <th>258</th>\n      <td>M9X</td>\n      <td>Not assigned</td>\n      <td>Not assigned</td>\n    </tr>\n    <tr>\n      <th>259</th>\n      <td>M1Y</td>\n      <td>Not assigned</td>\n      <td>Not assigned</td>\n    </tr>\n    <tr>\n      <th>260</th>\n      <td>M2Y</td>\n      <td>Not assigned</td>\n      <td>Not assigned</td>\n    </tr>\n    <tr>\n      <th>261</th>\n      <td>M3Y</td>\n      <td>Not assigned</td>\n      <td>Not assigned</td>\n    </tr>\n    <tr>\n      <th>263</th>\n      <td>M5Y</td>\n      <td>Not assigned</td>\n      <td>Not assigned</td>\n    </tr>\n    <tr>\n      <th>264</th>\n      <td>M6Y</td>\n      <td>Not assigned</td>\n      <td>Not assigned</td>\n    </tr>\n    <tr>\n      <th>274</th>\n      <td>M9Y</td>\n      <td>Not assigned</td>\n      <td>Not assigned</td>\n    </tr>\n    <tr>\n      <th>275</th>\n      <td>M1Z</td>\n      <td>Not assigned</td>\n      <td>Not assigned</td>\n    </tr>\n    <tr>\n      <th>276</th>\n      <td>M2Z</td>\n      <td>Not assigned</td>\n      <td>Not assigned</td>\n    </tr>\n    <tr>\n      <th>277</th>\n      <td>M3Z</td>\n      <td>Not assigned</td>\n      <td>Not assigned</td>\n    </tr>\n    <tr>\n      <th>278</th>\n      <td>M4Z</td>\n      <td>Not assigned</td>\n      <td>Not assigned</td>\n    </tr>\n    <tr>\n      <th>279</th>\n      <td>M5Z</td>\n      <td>Not assigned</td>\n      <td>Not assigned</td>\n    </tr>\n    <tr>\n      <th>280</th>\n      <td>M6Z</td>\n      <td>Not assigned</td>\n      <td>Not assigned</td>\n    </tr>\n    <tr>\n      <th>281</th>\n      <td>M7Z</td>\n      <td>Not assigned</td>\n      <td>Not assigned</td>\n    </tr>\n    <tr>\n      <th>287</th>\n      <td>M9Z</td>\n      <td>Not assigned</td>\n      <td>Not assigned</td>\n    </tr>\n  </tbody>\n</table>\n<p>78 rows \u00d7 3 columns</p>\n</div>", 
                        "text/plain": "    PostalCode       Borough  Neighborhood\n0          M1A  Not assigned  Not assigned\n1          M2A  Not assigned  Not assigned\n8          M7A  Queen's Park  Not assigned\n9          M8A  Not assigned  Not assigned\n13         M2B  Not assigned  Not assigned\n20         M7B  Not assigned  Not assigned\n21         M8B  Not assigned  Not assigned\n30         M2C  Not assigned  Not assigned\n36         M7C  Not assigned  Not assigned\n37         M8C  Not assigned  Not assigned\n45         M2E  Not assigned  Not assigned\n46         M3E  Not assigned  Not assigned\n50         M7E  Not assigned  Not assigned\n51         M8E  Not assigned  Not assigned\n52         M9E  Not assigned  Not assigned\n54         M2G  Not assigned  Not assigned\n55         M3G  Not assigned  Not assigned\n59         M7G  Not assigned  Not assigned\n60         M8G  Not assigned  Not assigned\n61         M9G  Not assigned  Not assigned\n73         M7H  Not assigned  Not assigned\n74         M8H  Not assigned  Not assigned\n75         M9H  Not assigned  Not assigned\n88         M7J  Not assigned  Not assigned\n89         M8J  Not assigned  Not assigned\n90         M9J  Not assigned  Not assigned\n104        M7K  Not assigned  Not assigned\n105        M8K  Not assigned  Not assigned\n106        M9K  Not assigned  Not assigned\n120        M7L  Not assigned  Not assigned\n..         ...           ...           ...\n202        M7T  Not assigned  Not assigned\n203        M8T  Not assigned  Not assigned\n204        M9T  Not assigned  Not assigned\n209        M2V  Not assigned  Not assigned\n210        M3V  Not assigned  Not assigned\n223        M6V  Not assigned  Not assigned\n224        M7V  Not assigned  Not assigned\n237        M2W  Not assigned  Not assigned\n238        M3W  Not assigned  Not assigned\n241        M6W  Not assigned  Not assigned\n242        M7W  Not assigned  Not assigned\n247        M2X  Not assigned  Not assigned\n248        M3X  Not assigned  Not assigned\n253        M6X  Not assigned  Not assigned\n254        M7X  Not assigned  Not assigned\n258        M9X  Not assigned  Not assigned\n259        M1Y  Not assigned  Not assigned\n260        M2Y  Not assigned  Not assigned\n261        M3Y  Not assigned  Not assigned\n263        M5Y  Not assigned  Not assigned\n264        M6Y  Not assigned  Not assigned\n274        M9Y  Not assigned  Not assigned\n275        M1Z  Not assigned  Not assigned\n276        M2Z  Not assigned  Not assigned\n277        M3Z  Not assigned  Not assigned\n278        M4Z  Not assigned  Not assigned\n279        M5Z  Not assigned  Not assigned\n280        M6Z  Not assigned  Not assigned\n281        M7Z  Not assigned  Not assigned\n287        M9Z  Not assigned  Not assigned\n\n[78 rows x 3 columns]"
                    }, 
                    "output_type": "execute_result"
                }
            ], 
            "source": "df.loc[df['Neighborhood']=='Not assigned']"
        }, 
        {
            "source": "But since some cells do have a borough but do not have a neighborhood assigned, we need to rename these neighborhoods with the same name as their boroughs. Finding boroughs with assigned names but no neighborhood names:", 
            "cell_type": "markdown", 
            "metadata": {}
        }, 
        {
            "execution_count": 8, 
            "cell_type": "code", 
            "metadata": {
                "scrolled": true
            }, 
            "outputs": [
                {
                    "execution_count": 8, 
                    "metadata": {}, 
                    "data": {
                        "text/html": "<div>\n<style scoped>\n    .dataframe tbody tr th:only-of-type {\n        vertical-align: middle;\n    }\n\n    .dataframe tbody tr th {\n        vertical-align: top;\n    }\n\n    .dataframe thead th {\n        text-align: right;\n    }\n</style>\n<table border=\"1\" class=\"dataframe\">\n  <thead>\n    <tr style=\"text-align: right;\">\n      <th></th>\n      <th>PostalCode</th>\n      <th>Borough</th>\n      <th>Neighborhood</th>\n    </tr>\n  </thead>\n  <tbody>\n    <tr>\n      <th>8</th>\n      <td>M7A</td>\n      <td>Queen's Park</td>\n      <td>Not assigned</td>\n    </tr>\n  </tbody>\n</table>\n</div>", 
                        "text/plain": "  PostalCode       Borough  Neighborhood\n8        M7A  Queen's Park  Not assigned"
                    }, 
                    "output_type": "execute_result"
                }
            ], 
            "source": "df.loc[(df['Borough']!='Not assigned') & (df['Neighborhood']=='Not assigned')]"
        }, 
        {
            "source": "Since there is only one such borough, which is Queen's Park, we can easily look up that row's index and name its neighborhood as \"Queen's Park\":", 
            "cell_type": "markdown", 
            "metadata": {}
        }, 
        {
            "execution_count": 9, 
            "cell_type": "code", 
            "metadata": {
                "scrolled": true
            }, 
            "outputs": [
                {
                    "execution_count": 9, 
                    "metadata": {}, 
                    "data": {
                        "text/html": "<div>\n<style scoped>\n    .dataframe tbody tr th:only-of-type {\n        vertical-align: middle;\n    }\n\n    .dataframe tbody tr th {\n        vertical-align: top;\n    }\n\n    .dataframe thead th {\n        text-align: right;\n    }\n</style>\n<table border=\"1\" class=\"dataframe\">\n  <thead>\n    <tr style=\"text-align: right;\">\n      <th></th>\n      <th>PostalCode</th>\n      <th>Borough</th>\n      <th>Neighborhood</th>\n    </tr>\n  </thead>\n  <tbody>\n    <tr>\n      <th>0</th>\n      <td>M1A</td>\n      <td>Not assigned</td>\n      <td>Not assigned</td>\n    </tr>\n    <tr>\n      <th>1</th>\n      <td>M2A</td>\n      <td>Not assigned</td>\n      <td>Not assigned</td>\n    </tr>\n    <tr>\n      <th>2</th>\n      <td>M3A</td>\n      <td>North York</td>\n      <td>Parkwoods</td>\n    </tr>\n    <tr>\n      <th>3</th>\n      <td>M4A</td>\n      <td>North York</td>\n      <td>Victoria Village</td>\n    </tr>\n    <tr>\n      <th>4</th>\n      <td>M5A</td>\n      <td>Downtown Toronto</td>\n      <td>Harbourfront</td>\n    </tr>\n    <tr>\n      <th>5</th>\n      <td>M5A</td>\n      <td>Downtown Toronto</td>\n      <td>Regent Park</td>\n    </tr>\n    <tr>\n      <th>6</th>\n      <td>M6A</td>\n      <td>North York</td>\n      <td>Lawrence Heights</td>\n    </tr>\n    <tr>\n      <th>7</th>\n      <td>M6A</td>\n      <td>North York</td>\n      <td>Lawrence Manor</td>\n    </tr>\n    <tr>\n      <th>8</th>\n      <td>M7A</td>\n      <td>Queen's Park</td>\n      <td>Queen's Park</td>\n    </tr>\n    <tr>\n      <th>9</th>\n      <td>M8A</td>\n      <td>Not assigned</td>\n      <td>Not assigned</td>\n    </tr>\n  </tbody>\n</table>\n</div>", 
                        "text/plain": "  PostalCode           Borough      Neighborhood\n0        M1A      Not assigned      Not assigned\n1        M2A      Not assigned      Not assigned\n2        M3A        North York         Parkwoods\n3        M4A        North York  Victoria Village\n4        M5A  Downtown Toronto      Harbourfront\n5        M5A  Downtown Toronto       Regent Park\n6        M6A        North York  Lawrence Heights\n7        M6A        North York    Lawrence Manor\n8        M7A      Queen's Park      Queen's Park\n9        M8A      Not assigned      Not assigned"
                    }, 
                    "output_type": "execute_result"
                }
            ], 
            "source": "df.iloc[8].replace(to_replace=\"Not assigned\", value=\"Queen's Park\", inplace=True)\ndf.head(10)"
        }, 
        {
            "source": "Now we can drop all the boroughs and neighborhoods that do not have a name assigned:", 
            "cell_type": "markdown", 
            "metadata": {}
        }, 
        {
            "execution_count": 10, 
            "cell_type": "code", 
            "metadata": {}, 
            "outputs": [
                {
                    "execution_count": 10, 
                    "metadata": {}, 
                    "data": {
                        "text/html": "<div>\n<style scoped>\n    .dataframe tbody tr th:only-of-type {\n        vertical-align: middle;\n    }\n\n    .dataframe tbody tr th {\n        vertical-align: top;\n    }\n\n    .dataframe thead th {\n        text-align: right;\n    }\n</style>\n<table border=\"1\" class=\"dataframe\">\n  <thead>\n    <tr style=\"text-align: right;\">\n      <th></th>\n      <th>PostalCode</th>\n      <th>Borough</th>\n      <th>Neighborhood</th>\n    </tr>\n  </thead>\n  <tbody>\n    <tr>\n      <th>2</th>\n      <td>M3A</td>\n      <td>North York</td>\n      <td>Parkwoods</td>\n    </tr>\n    <tr>\n      <th>3</th>\n      <td>M4A</td>\n      <td>North York</td>\n      <td>Victoria Village</td>\n    </tr>\n    <tr>\n      <th>4</th>\n      <td>M5A</td>\n      <td>Downtown Toronto</td>\n      <td>Harbourfront</td>\n    </tr>\n    <tr>\n      <th>5</th>\n      <td>M5A</td>\n      <td>Downtown Toronto</td>\n      <td>Regent Park</td>\n    </tr>\n    <tr>\n      <th>6</th>\n      <td>M6A</td>\n      <td>North York</td>\n      <td>Lawrence Heights</td>\n    </tr>\n  </tbody>\n</table>\n</div>", 
                        "text/plain": "  PostalCode           Borough      Neighborhood\n2        M3A        North York         Parkwoods\n3        M4A        North York  Victoria Village\n4        M5A  Downtown Toronto      Harbourfront\n5        M5A  Downtown Toronto       Regent Park\n6        M6A        North York  Lawrence Heights"
                    }, 
                    "output_type": "execute_result"
                }
            ], 
            "source": "df.replace(\"Not assigned\", np.nan, inplace=True) #converts all 'Not assigned' values to NaN values\ndf.dropna(subset=['Borough'], axis=0, inplace=True)\ndf.head()"
        }, 
        {
            "source": "Some postal codes have more than one neighborhood. Grouping the neighborhoods belonging to the same postal codes:", 
            "cell_type": "markdown", 
            "metadata": {}
        }, 
        {
            "execution_count": 11, 
            "cell_type": "code", 
            "metadata": {}, 
            "outputs": [
                {
                    "execution_count": 11, 
                    "metadata": {}, 
                    "data": {
                        "text/html": "<div>\n<style scoped>\n    .dataframe tbody tr th:only-of-type {\n        vertical-align: middle;\n    }\n\n    .dataframe tbody tr th {\n        vertical-align: top;\n    }\n\n    .dataframe thead th {\n        text-align: right;\n    }\n</style>\n<table border=\"1\" class=\"dataframe\">\n  <thead>\n    <tr style=\"text-align: right;\">\n      <th></th>\n      <th>PostalCode</th>\n      <th>Borough</th>\n      <th>Neighborhood</th>\n    </tr>\n  </thead>\n  <tbody>\n    <tr>\n      <th>0</th>\n      <td>M1B</td>\n      <td>Scarborough</td>\n      <td>Rouge, Malvern</td>\n    </tr>\n    <tr>\n      <th>1</th>\n      <td>M1C</td>\n      <td>Scarborough</td>\n      <td>Highland Creek, Rouge Hill, Port Union</td>\n    </tr>\n    <tr>\n      <th>2</th>\n      <td>M1E</td>\n      <td>Scarborough</td>\n      <td>Guildwood, Morningside, West Hill</td>\n    </tr>\n    <tr>\n      <th>3</th>\n      <td>M1G</td>\n      <td>Scarborough</td>\n      <td>Woburn</td>\n    </tr>\n    <tr>\n      <th>4</th>\n      <td>M1H</td>\n      <td>Scarborough</td>\n      <td>Cedarbrae</td>\n    </tr>\n    <tr>\n      <th>5</th>\n      <td>M1J</td>\n      <td>Scarborough</td>\n      <td>Scarborough Village</td>\n    </tr>\n    <tr>\n      <th>6</th>\n      <td>M1K</td>\n      <td>Scarborough</td>\n      <td>East Birchmount Park, Ionview, Kennedy Park</td>\n    </tr>\n    <tr>\n      <th>7</th>\n      <td>M1L</td>\n      <td>Scarborough</td>\n      <td>Clairlea, Golden Mile, Oakridge</td>\n    </tr>\n    <tr>\n      <th>8</th>\n      <td>M1M</td>\n      <td>Scarborough</td>\n      <td>Cliffcrest, Cliffside, Scarborough Village West</td>\n    </tr>\n    <tr>\n      <th>9</th>\n      <td>M1N</td>\n      <td>Scarborough</td>\n      <td>Birch Cliff, Cliffside West</td>\n    </tr>\n  </tbody>\n</table>\n</div>", 
                        "text/plain": "  PostalCode      Borough                                     Neighborhood\n0        M1B  Scarborough                                   Rouge, Malvern\n1        M1C  Scarborough           Highland Creek, Rouge Hill, Port Union\n2        M1E  Scarborough                Guildwood, Morningside, West Hill\n3        M1G  Scarborough                                           Woburn\n4        M1H  Scarborough                                        Cedarbrae\n5        M1J  Scarborough                              Scarborough Village\n6        M1K  Scarborough      East Birchmount Park, Ionview, Kennedy Park\n7        M1L  Scarborough                  Clairlea, Golden Mile, Oakridge\n8        M1M  Scarborough  Cliffcrest, Cliffside, Scarborough Village West\n9        M1N  Scarborough                      Birch Cliff, Cliffside West"
                    }, 
                    "output_type": "execute_result"
                }
            ], 
            "source": "#function to separate each concatenated neighborhood by a comma\nf = lambda a: \", \".join(a) \ndf = df.groupby(by='PostalCode').agg({'Borough': 'max',\n                                       'Neighborhood' : f}).reset_index()\ndf = df[['PostalCode', 'Borough', 'Neighborhood']] #just rearranging the columns\ndf.head(10)"
        }, 
        {
            "execution_count": 12, 
            "cell_type": "code", 
            "metadata": {}, 
            "outputs": [
                {
                    "execution_count": 12, 
                    "metadata": {}, 
                    "data": {
                        "text/plain": "(103, 3)"
                    }, 
                    "output_type": "execute_result"
                }
            ], 
            "source": "#checking the dimensions of our dataframe\ndf.shape"
        }, 
        {
            "execution_count": 13, 
            "cell_type": "code", 
            "metadata": {}, 
            "outputs": [], 
            "source": "df.to_csv('Toronto Neighborhood Data.csv', index=False) #removing the index so it doesn't create problems when we read the csv later on"
        }
    ], 
    "metadata": {
        "kernelspec": {
            "display_name": "Python 3.5", 
            "name": "python3", 
            "language": "python"
        }, 
        "language_info": {
            "mimetype": "text/x-python", 
            "nbconvert_exporter": "python", 
            "version": "3.5.5", 
            "name": "python", 
            "file_extension": ".py", 
            "pygments_lexer": "ipython3", 
            "codemirror_mode": {
                "version": 3, 
                "name": "ipython"
            }
        }
    }, 
    "nbformat": 4
}